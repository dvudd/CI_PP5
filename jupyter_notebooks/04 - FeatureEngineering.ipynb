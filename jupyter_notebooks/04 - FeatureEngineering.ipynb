{
 "cells": [
  {
   "cell_type": "markdown",
   "metadata": {},
   "source": [
    "# Feature Engineering Notebook\n",
    "## Objectives\n",
    "\n",
    "## Inputs\n",
    "- outputs/datasets/cleaned/TrainSetCleaned.csv\n",
    "- outputs/datasets/cleaned/TestSetCleaned.csv\n",
    "\n",
    "## Outputs\n",
    "- \n",
    "\n",
    "## Conclusions\n",
    "- "
   ]
  },
  {
   "cell_type": "markdown",
   "metadata": {},
   "source": [
    "---"
   ]
  },
  {
   "cell_type": "markdown",
   "metadata": {},
   "source": [
    "# Change working directory\n",
    "We need to change the working directory from its current folder to its parent folder"
   ]
  },
  {
   "cell_type": "code",
   "execution_count": 1,
   "metadata": {},
   "outputs": [
    {
     "data": {
      "text/plain": [
       "'/workspace/CI_PP5'"
      ]
     },
     "execution_count": 1,
     "metadata": {},
     "output_type": "execute_result"
    }
   ],
   "source": [
    "import os\n",
    "\n",
    "current_path = os.getcwd()\n",
    "os.chdir(os.path.dirname(current_path))\n",
    "current_path = os.getcwd()\n",
    "current_path"
   ]
  },
  {
   "cell_type": "markdown",
   "metadata": {
    "vscode": {
     "languageId": "plaintext"
    }
   },
   "source": [
    "# Load Cleaned Data\n",
    "## Train Set"
   ]
  },
  {
   "cell_type": "code",
   "execution_count": 2,
   "metadata": {},
   "outputs": [
    {
     "data": {
      "text/html": [
       "<div>\n",
       "<style scoped>\n",
       "    .dataframe tbody tr th:only-of-type {\n",
       "        vertical-align: middle;\n",
       "    }\n",
       "\n",
       "    .dataframe tbody tr th {\n",
       "        vertical-align: top;\n",
       "    }\n",
       "\n",
       "    .dataframe thead th {\n",
       "        text-align: right;\n",
       "    }\n",
       "</style>\n",
       "<table border=\"1\" class=\"dataframe\">\n",
       "  <thead>\n",
       "    <tr style=\"text-align: right;\">\n",
       "      <th></th>\n",
       "      <th>1stFlrSF</th>\n",
       "      <th>GarageArea</th>\n",
       "      <th>GarageYrBlt</th>\n",
       "      <th>GrLivArea</th>\n",
       "      <th>KitchenQual</th>\n",
       "      <th>OverallQual</th>\n",
       "      <th>TotalBsmtSF</th>\n",
       "      <th>YearBuilt</th>\n",
       "      <th>YearRemodAdd</th>\n",
       "      <th>SalePrice</th>\n",
       "    </tr>\n",
       "  </thead>\n",
       "  <tbody>\n",
       "    <tr>\n",
       "      <th>0</th>\n",
       "      <td>1828</td>\n",
       "      <td>774</td>\n",
       "      <td>2007.0</td>\n",
       "      <td>1828</td>\n",
       "      <td>3</td>\n",
       "      <td>9</td>\n",
       "      <td>1822</td>\n",
       "      <td>2007</td>\n",
       "      <td>2007</td>\n",
       "      <td>314813</td>\n",
       "    </tr>\n",
       "    <tr>\n",
       "      <th>1</th>\n",
       "      <td>894</td>\n",
       "      <td>308</td>\n",
       "      <td>1962.0</td>\n",
       "      <td>894</td>\n",
       "      <td>2</td>\n",
       "      <td>5</td>\n",
       "      <td>894</td>\n",
       "      <td>1962</td>\n",
       "      <td>1962</td>\n",
       "      <td>109500</td>\n",
       "    </tr>\n",
       "    <tr>\n",
       "      <th>2</th>\n",
       "      <td>964</td>\n",
       "      <td>432</td>\n",
       "      <td>1921.0</td>\n",
       "      <td>964</td>\n",
       "      <td>2</td>\n",
       "      <td>5</td>\n",
       "      <td>876</td>\n",
       "      <td>1921</td>\n",
       "      <td>2006</td>\n",
       "      <td>163500</td>\n",
       "    </tr>\n",
       "    <tr>\n",
       "      <th>3</th>\n",
       "      <td>1689</td>\n",
       "      <td>857</td>\n",
       "      <td>2002.0</td>\n",
       "      <td>1689</td>\n",
       "      <td>3</td>\n",
       "      <td>8</td>\n",
       "      <td>1568</td>\n",
       "      <td>2002</td>\n",
       "      <td>2002</td>\n",
       "      <td>271000</td>\n",
       "    </tr>\n",
       "    <tr>\n",
       "      <th>4</th>\n",
       "      <td>1541</td>\n",
       "      <td>843</td>\n",
       "      <td>2001.0</td>\n",
       "      <td>1541</td>\n",
       "      <td>3</td>\n",
       "      <td>7</td>\n",
       "      <td>1541</td>\n",
       "      <td>2001</td>\n",
       "      <td>2002</td>\n",
       "      <td>205000</td>\n",
       "    </tr>\n",
       "  </tbody>\n",
       "</table>\n",
       "</div>"
      ],
      "text/plain": [
       "   1stFlrSF  GarageArea  GarageYrBlt  GrLivArea  KitchenQual  OverallQual  \\\n",
       "0      1828         774       2007.0       1828            3            9   \n",
       "1       894         308       1962.0        894            2            5   \n",
       "2       964         432       1921.0        964            2            5   \n",
       "3      1689         857       2002.0       1689            3            8   \n",
       "4      1541         843       2001.0       1541            3            7   \n",
       "\n",
       "   TotalBsmtSF  YearBuilt  YearRemodAdd  SalePrice  \n",
       "0         1822       2007          2007     314813  \n",
       "1          894       1962          1962     109500  \n",
       "2          876       1921          2006     163500  \n",
       "3         1568       2002          2002     271000  \n",
       "4         1541       2001          2002     205000  "
      ]
     },
     "execution_count": 2,
     "metadata": {},
     "output_type": "execute_result"
    }
   ],
   "source": [
    "import pandas as pd\n",
    "TrainSet = pd.read_csv(\"outputs/datasets/cleaned/TrainSetCleaned.csv\")\n",
    "TrainSet.head()"
   ]
  },
  {
   "cell_type": "markdown",
   "metadata": {},
   "source": [
    "## Test Set"
   ]
  },
  {
   "cell_type": "code",
   "execution_count": 3,
   "metadata": {},
   "outputs": [
    {
     "data": {
      "text/html": [
       "<div>\n",
       "<style scoped>\n",
       "    .dataframe tbody tr th:only-of-type {\n",
       "        vertical-align: middle;\n",
       "    }\n",
       "\n",
       "    .dataframe tbody tr th {\n",
       "        vertical-align: top;\n",
       "    }\n",
       "\n",
       "    .dataframe thead th {\n",
       "        text-align: right;\n",
       "    }\n",
       "</style>\n",
       "<table border=\"1\" class=\"dataframe\">\n",
       "  <thead>\n",
       "    <tr style=\"text-align: right;\">\n",
       "      <th></th>\n",
       "      <th>1stFlrSF</th>\n",
       "      <th>2ndFlrSF</th>\n",
       "      <th>BedroomAbvGr</th>\n",
       "      <th>BsmtExposure</th>\n",
       "      <th>BsmtFinSF1</th>\n",
       "      <th>BsmtFinType1</th>\n",
       "      <th>BsmtUnfSF</th>\n",
       "      <th>GarageArea</th>\n",
       "      <th>GarageFinish</th>\n",
       "      <th>GarageYrBlt</th>\n",
       "      <th>...</th>\n",
       "      <th>LotArea</th>\n",
       "      <th>LotFrontage</th>\n",
       "      <th>MasVnrArea</th>\n",
       "      <th>OpenPorchSF</th>\n",
       "      <th>OverallCond</th>\n",
       "      <th>OverallQual</th>\n",
       "      <th>TotalBsmtSF</th>\n",
       "      <th>YearBuilt</th>\n",
       "      <th>YearRemodAdd</th>\n",
       "      <th>SalePrice</th>\n",
       "    </tr>\n",
       "  </thead>\n",
       "  <tbody>\n",
       "    <tr>\n",
       "      <th>0</th>\n",
       "      <td>2515</td>\n",
       "      <td>0.0</td>\n",
       "      <td>4.0</td>\n",
       "      <td>0</td>\n",
       "      <td>1219</td>\n",
       "      <td>3.0</td>\n",
       "      <td>816</td>\n",
       "      <td>484</td>\n",
       "      <td>0.0</td>\n",
       "      <td>1975.0</td>\n",
       "      <td>...</td>\n",
       "      <td>32668</td>\n",
       "      <td>69.0</td>\n",
       "      <td>0.0</td>\n",
       "      <td>0</td>\n",
       "      <td>3</td>\n",
       "      <td>6</td>\n",
       "      <td>2035</td>\n",
       "      <td>1957</td>\n",
       "      <td>1975</td>\n",
       "      <td>200624</td>\n",
       "    </tr>\n",
       "    <tr>\n",
       "      <th>1</th>\n",
       "      <td>958</td>\n",
       "      <td>620.0</td>\n",
       "      <td>3.0</td>\n",
       "      <td>0</td>\n",
       "      <td>403</td>\n",
       "      <td>4.0</td>\n",
       "      <td>238</td>\n",
       "      <td>240</td>\n",
       "      <td>1.0</td>\n",
       "      <td>1941.0</td>\n",
       "      <td>...</td>\n",
       "      <td>9490</td>\n",
       "      <td>79.0</td>\n",
       "      <td>0.0</td>\n",
       "      <td>0</td>\n",
       "      <td>7</td>\n",
       "      <td>6</td>\n",
       "      <td>806</td>\n",
       "      <td>1941</td>\n",
       "      <td>1950</td>\n",
       "      <td>133000</td>\n",
       "    </tr>\n",
       "    <tr>\n",
       "      <th>2</th>\n",
       "      <td>979</td>\n",
       "      <td>224.0</td>\n",
       "      <td>3.0</td>\n",
       "      <td>0</td>\n",
       "      <td>185</td>\n",
       "      <td>2.0</td>\n",
       "      <td>524</td>\n",
       "      <td>352</td>\n",
       "      <td>1.0</td>\n",
       "      <td>1950.0</td>\n",
       "      <td>...</td>\n",
       "      <td>7015</td>\n",
       "      <td>69.0</td>\n",
       "      <td>161.0</td>\n",
       "      <td>0</td>\n",
       "      <td>4</td>\n",
       "      <td>5</td>\n",
       "      <td>709</td>\n",
       "      <td>1950</td>\n",
       "      <td>1950</td>\n",
       "      <td>110000</td>\n",
       "    </tr>\n",
       "    <tr>\n",
       "      <th>3</th>\n",
       "      <td>1156</td>\n",
       "      <td>866.0</td>\n",
       "      <td>4.0</td>\n",
       "      <td>0</td>\n",
       "      <td>392</td>\n",
       "      <td>4.0</td>\n",
       "      <td>768</td>\n",
       "      <td>505</td>\n",
       "      <td>3.0</td>\n",
       "      <td>1977.0</td>\n",
       "      <td>...</td>\n",
       "      <td>10005</td>\n",
       "      <td>83.0</td>\n",
       "      <td>299.0</td>\n",
       "      <td>117</td>\n",
       "      <td>5</td>\n",
       "      <td>7</td>\n",
       "      <td>1160</td>\n",
       "      <td>1977</td>\n",
       "      <td>1977</td>\n",
       "      <td>192000</td>\n",
       "    </tr>\n",
       "    <tr>\n",
       "      <th>4</th>\n",
       "      <td>525</td>\n",
       "      <td>0.0</td>\n",
       "      <td>3.0</td>\n",
       "      <td>0</td>\n",
       "      <td>0</td>\n",
       "      <td>1.0</td>\n",
       "      <td>525</td>\n",
       "      <td>264</td>\n",
       "      <td>1.0</td>\n",
       "      <td>1971.0</td>\n",
       "      <td>...</td>\n",
       "      <td>1680</td>\n",
       "      <td>21.0</td>\n",
       "      <td>381.0</td>\n",
       "      <td>0</td>\n",
       "      <td>5</td>\n",
       "      <td>6</td>\n",
       "      <td>525</td>\n",
       "      <td>1971</td>\n",
       "      <td>1971</td>\n",
       "      <td>88000</td>\n",
       "    </tr>\n",
       "  </tbody>\n",
       "</table>\n",
       "<p>5 rows × 22 columns</p>\n",
       "</div>"
      ],
      "text/plain": [
       "   1stFlrSF  2ndFlrSF  BedroomAbvGr  BsmtExposure  BsmtFinSF1  BsmtFinType1  \\\n",
       "0      2515       0.0           4.0             0        1219           3.0   \n",
       "1       958     620.0           3.0             0         403           4.0   \n",
       "2       979     224.0           3.0             0         185           2.0   \n",
       "3      1156     866.0           4.0             0         392           4.0   \n",
       "4       525       0.0           3.0             0           0           1.0   \n",
       "\n",
       "   BsmtUnfSF  GarageArea  GarageFinish  GarageYrBlt  ...  LotArea  \\\n",
       "0        816         484           0.0       1975.0  ...    32668   \n",
       "1        238         240           1.0       1941.0  ...     9490   \n",
       "2        524         352           1.0       1950.0  ...     7015   \n",
       "3        768         505           3.0       1977.0  ...    10005   \n",
       "4        525         264           1.0       1971.0  ...     1680   \n",
       "\n",
       "   LotFrontage  MasVnrArea  OpenPorchSF  OverallCond  OverallQual  \\\n",
       "0         69.0         0.0            0            3            6   \n",
       "1         79.0         0.0            0            7            6   \n",
       "2         69.0       161.0            0            4            5   \n",
       "3         83.0       299.0          117            5            7   \n",
       "4         21.0       381.0            0            5            6   \n",
       "\n",
       "   TotalBsmtSF  YearBuilt  YearRemodAdd  SalePrice  \n",
       "0         2035       1957          1975     200624  \n",
       "1          806       1941          1950     133000  \n",
       "2          709       1950          1950     110000  \n",
       "3         1160       1977          1977     192000  \n",
       "4          525       1971          1971      88000  \n",
       "\n",
       "[5 rows x 22 columns]"
      ]
     },
     "execution_count": 3,
     "metadata": {},
     "output_type": "execute_result"
    }
   ],
   "source": [
    "\n",
    "TestSet = pd.read_csv(\"outputs/datasets/cleaned/TestSetCleaned.csv\")\n",
    "TestSet.head()"
   ]
  },
  {
   "cell_type": "markdown",
   "metadata": {},
   "source": [
    "# Data Exploration"
   ]
  },
  {
   "cell_type": "code",
   "execution_count": null,
   "metadata": {},
   "outputs": [],
   "source": [
    "from pandas_profiling import ProfileReport\n",
    "pandas_report = ProfileReport(df=TrainSet, minimal=True)\n",
    "pandas_report.to_notebook_iframe()"
   ]
  },
  {
   "cell_type": "markdown",
   "metadata": {},
   "source": [
    "---"
   ]
  },
  {
   "cell_type": "markdown",
   "metadata": {},
   "source": [
    "# Feature Engineering\n",
    "- Custom Function from the Code Institute Walkthrough Project 2"
   ]
  },
  {
   "cell_type": "code",
   "execution_count": 4,
   "metadata": {},
   "outputs": [],
   "source": [
    "import scipy.stats as stats\n",
    "import matplotlib.pyplot as plt\n",
    "import seaborn as sns\n",
    "import pandas as pd\n",
    "import warnings\n",
    "from feature_engine import transformation as vt\n",
    "from feature_engine.outliers import Winsorizer\n",
    "from feature_engine.encoding import OrdinalEncoder\n",
    "sns.set(style=\"whitegrid\")\n",
    "warnings.filterwarnings('ignore')\n",
    "\n",
    "\n",
    "def FeatureEngineeringAnalysis(df, analysis_type=None):\n",
    "    \"\"\"\n",
    "    - Used for quick feature engineering on numerical and categorical variables\n",
    "    to decide which transformation can better transform the distribution shape\n",
    "    - Once transformed, use a reporting tool, like ydata-profiling, to evaluate\n",
    "    distributions\n",
    "    \"\"\"\n",
    "    check_missing_values(df)\n",
    "    allowed_types = ['numerical', 'ordinal_encoder', 'outlier_winsorizer']\n",
    "    check_user_entry_on_analysis_type(analysis_type, allowed_types)\n",
    "    list_column_transformers = define_list_column_transformers(analysis_type)\n",
    "\n",
    "    # Loop in each variable and engineer the data according to the analysis\n",
    "    # type\n",
    "    df_feat_eng = pd.DataFrame([], index=[0])\n",
    "    for column in df.columns:\n",
    "        # Create additional columns (column_method) to apply the methods\n",
    "        df_feat_eng = pd.concat([df_feat_eng, df[column]], axis=1)\n",
    "        for method in list_column_transformers:\n",
    "            df_feat_eng[f\"{column}_{method}\"] = df[column]\n",
    "\n",
    "        # Apply transformers in respective column_transformers\n",
    "        df_feat_eng, list_applied_transformers = apply_transformers(\n",
    "            analysis_type, df_feat_eng, column)\n",
    "\n",
    "        # For each variable, assess how the transformations perform\n",
    "        transformer_evaluation(\n",
    "            df, column, list_applied_transformers, analysis_type, df_feat_eng)\n",
    "\n",
    "    return df_feat_eng\n",
    "\n",
    "\n",
    "def check_user_entry_on_analysis_type(analysis_type, allowed_types):\n",
    "    \"\"\" Check analysis type \"\"\"\n",
    "    if analysis_type is None:\n",
    "        raise SystemExit(\n",
    "            f\"You should pass analysis_type parameter as one of the following \"\n",
    "            f\"options: {allowed_types}\")\n",
    "    if analysis_type not in allowed_types:\n",
    "        raise SystemExit(\n",
    "            f\"analysis_type argument should be one of these options: \"\n",
    "            f\"{allowed_types}\")\n",
    "\n",
    "\n",
    "def check_missing_values(df):\n",
    "    \"\"\" Check for missing values \"\"\"\n",
    "    if df.isna().sum().sum() != 0:\n",
    "        raise SystemExit(\n",
    "            f\"There is a missing value in your dataset. Please handle that \"\n",
    "            f\"before getting into feature engineering.\")\n",
    "\n",
    "\n",
    "def define_list_column_transformers(analysis_type):\n",
    "    \"\"\" Set suffix columns according to analysis_type\"\"\"\n",
    "    if analysis_type == 'numerical':\n",
    "        list_column_transformers = [\n",
    "            \"log_e\", \"log_10\", \"reciprocal\", \"power\", \"box_cox\", \"yeo_johnson\"]\n",
    "\n",
    "    elif analysis_type == 'ordinal_encoder':\n",
    "        list_column_transformers = [\"ordinal_encoder\"]\n",
    "\n",
    "    elif analysis_type == 'outlier_winsorizer':\n",
    "        list_column_transformers = ['iqr']\n",
    "\n",
    "    return list_column_transformers\n",
    "\n",
    "\n",
    "def apply_transformers(analysis_type, df_feat_eng, column):\n",
    "    \"\"\" Apply transformers \"\"\"\n",
    "    for col in df_feat_eng.select_dtypes(include='category').columns:\n",
    "        df_feat_eng[col] = df_feat_eng[col].astype('object')\n",
    "\n",
    "    if analysis_type == 'numerical':\n",
    "        df_feat_eng, list_applied_transformers = FeatEng_Numerical(\n",
    "            df_feat_eng, column)\n",
    "\n",
    "    elif analysis_type == 'outlier_winsorizer':\n",
    "        df_feat_eng, list_applied_transformers = FeatEng_OutlierWinsorizer(\n",
    "            df_feat_eng, column)\n",
    "\n",
    "    elif analysis_type == 'ordinal_encoder':\n",
    "        df_feat_eng, list_applied_transformers = FeatEng_CategoricalEncoder(\n",
    "            df_feat_eng, column)\n",
    "\n",
    "    return df_feat_eng, list_applied_transformers\n",
    "\n",
    "\n",
    "def transformer_evaluation(df, column, list_applied_transformers,\n",
    "                           analysis_type, df_feat_eng):\n",
    "    \"\"\" For each variable, assess how the transformations perform \"\"\"\n",
    "    print(f\"* Variable Analyzed: {column}\")\n",
    "    print(f\"* Applied transformation: {list_applied_transformers}\")\n",
    "    print(f\"* Skewness: {df[column].skew().round(2)} | Kurtosis: \"\n",
    "          f\"{df[column].kurtosis().round(2)}\\n\")\n",
    "\n",
    "    for col in [column] + list_applied_transformers:\n",
    "\n",
    "        if analysis_type != 'ordinal_encoder':\n",
    "            DiagnosticPlots_Numerical(df_feat_eng, col)\n",
    "\n",
    "        else:\n",
    "            if col == column:\n",
    "                DiagnosticPlots_Categories(df_feat_eng, col)\n",
    "            else:\n",
    "                DiagnosticPlots_Numerical(df_feat_eng, col)\n",
    "\n",
    "        print(\"\\n\")\n",
    "\n",
    "\n",
    "def DiagnosticPlots_Categories(df_feat_eng, col):\n",
    "    \"\"\" Create plots for categorical transformer \"\"\"\n",
    "    plt.figure(figsize=(4, 3))\n",
    "    sns.countplot(data=df_feat_eng, x=col, palette=[\n",
    "                  '#432371'], order=df_feat_eng[col].value_counts().index)\n",
    "    plt.xticks(rotation=90)\n",
    "    plt.suptitle(f\"{col}\", fontsize=30, y=1.05)\n",
    "    plt.show()\n",
    "    print(\"\\n\")\n",
    "\n",
    "\n",
    "def DiagnosticPlots_Numerical(df, variable):\n",
    "    \"\"\" Create plots for numerical transformer \"\"\"\n",
    "    fig, axes = plt.subplots(1, 3, figsize=(12, 4))\n",
    "    sns.histplot(data=df, x=variable, kde=True, element=\"step\", ax=axes[0])\n",
    "    stats.probplot(df[variable], dist=\"norm\", plot=axes[1])\n",
    "    sns.boxplot(x=df[variable], ax=axes[2])\n",
    "\n",
    "    axes[0].set_title('Histogram')\n",
    "    axes[1].set_title('QQ Plot')\n",
    "    axes[2].set_title('Boxplot')\n",
    "    fig.suptitle(f\"{variable}\", fontsize=30, y=1.05)\n",
    "    plt.tight_layout()\n",
    "    plt.show()\n",
    "\n",
    "\n",
    "def FeatEng_CategoricalEncoder(df_feat_eng, column):\n",
    "    list_methods_worked = []\n",
    "    try:\n",
    "        encoder = OrdinalEncoder(encoding_method='arbitrary', variables=[\n",
    "                                 f\"{column}_ordinal_encoder\"])\n",
    "        df_feat_eng = encoder.fit_transform(df_feat_eng)\n",
    "        list_methods_worked.append(f\"{column}_ordinal_encoder\")\n",
    "\n",
    "    except Exception:\n",
    "        df_feat_eng.drop([f\"{column}_ordinal_encoder\"], axis=1, inplace=True)\n",
    "\n",
    "    return df_feat_eng, list_methods_worked\n",
    "\n",
    "\n",
    "def FeatEng_OutlierWinsorizer(df_feat_eng, column):\n",
    "    list_methods_worked = []\n",
    "\n",
    "    # Winsorizer iqr\n",
    "    try:\n",
    "        disc = Winsorizer(\n",
    "            capping_method='iqr', tail='both', fold=1.5,\n",
    "            variables=[f\"{column}_iqr\"])\n",
    "        df_feat_eng = disc.fit_transform(df_feat_eng)\n",
    "        list_methods_worked.append(f\"{column}_iqr\")\n",
    "    except Exception:\n",
    "        df_feat_eng.drop([f\"{column}_iqr\"], axis=1, inplace=True)\n",
    "\n",
    "    return df_feat_eng, list_methods_worked\n",
    "\n",
    "\n",
    "def FeatEng_Numerical(df_feat_eng, column):\n",
    "    list_methods_worked = []\n",
    "\n",
    "    # LogTransformer base e\n",
    "    try:\n",
    "        lt = vt.LogTransformer(variables=[f\"{column}_log_e\"])\n",
    "        df_feat_eng = lt.fit_transform(df_feat_eng)\n",
    "        list_methods_worked.append(f\"{column}_log_e\")\n",
    "    except Exception:\n",
    "        df_feat_eng.drop([f\"{column}_log_e\"], axis=1, inplace=True)\n",
    "\n",
    "    # LogTransformer base 10\n",
    "    try:\n",
    "        lt = vt.LogTransformer(variables=[f\"{column}_log_10\"], base='10')\n",
    "        df_feat_eng = lt.fit_transform(df_feat_eng)\n",
    "        list_methods_worked.append(f\"{column}_log_10\")\n",
    "    except Exception:\n",
    "        df_feat_eng.drop([f\"{column}_log_10\"], axis=1, inplace=True)\n",
    "\n",
    "    # ReciprocalTransformer\n",
    "    try:\n",
    "        rt = vt.ReciprocalTransformer(variables=[f\"{column}_reciprocal\"])\n",
    "        df_feat_eng = rt.fit_transform(df_feat_eng)\n",
    "        list_methods_worked.append(f\"{column}_reciprocal\")\n",
    "    except Exception:\n",
    "        df_feat_eng.drop([f\"{column}_reciprocal\"], axis=1, inplace=True)\n",
    "\n",
    "    # PowerTransformer\n",
    "    try:\n",
    "        pt = vt.PowerTransformer(variables=[f\"{column}_power\"])\n",
    "        df_feat_eng = pt.fit_transform(df_feat_eng)\n",
    "        list_methods_worked.append(f\"{column}_power\")\n",
    "    except Exception:\n",
    "        df_feat_eng.drop([f\"{column}_power\"], axis=1, inplace=True)\n",
    "\n",
    "    # BoxCoxTransformer\n",
    "    try:\n",
    "        bct = vt.BoxCoxTransformer(variables=[f\"{column}_box_cox\"])\n",
    "        df_feat_eng = bct.fit_transform(df_feat_eng)\n",
    "        list_methods_worked.append(f\"{column}_box_cox\")\n",
    "    except Exception:\n",
    "        df_feat_eng.drop([f\"{column}_box_cox\"], axis=1, inplace=True)\n",
    "\n",
    "    # YeoJohnsonTransformer\n",
    "    try:\n",
    "        yjt = vt.YeoJohnsonTransformer(variables=[f\"{column}_yeo_johnson\"])\n",
    "        df_feat_eng = yjt.fit_transform(df_feat_eng)\n",
    "        list_methods_worked.append(f\"{column}_yeo_johnson\")\n",
    "    except Exception:\n",
    "        df_feat_eng.drop([f\"{column}_yeo_johnson\"], axis=1, inplace=True)\n",
    "\n",
    "    return df_feat_eng, list_methods_worked"
   ]
  },
  {
   "cell_type": "markdown",
   "metadata": {},
   "source": [
    "## Numerical Transformation"
   ]
  },
  {
   "cell_type": "code",
   "execution_count": null,
   "metadata": {},
   "outputs": [],
   "source": [
    "df_engineering = TrainSet.copy()\n",
    "df_engineering.head()\n",
    "%matplotlib inline\n",
    "df_engineering = FeatureEngineeringAnalysis(\n",
    "    df=df_engineering, analysis_type='numerical')"
   ]
  },
  {
   "cell_type": "markdown",
   "metadata": {},
   "source": [
    "### Comparison\n",
    "Seems like the results are skewed, so we need to use some other transformation. Let's explore which transformation yields the best results."
   ]
  },
  {
   "cell_type": "code",
   "execution_count": 5,
   "metadata": {},
   "outputs": [],
   "source": [
    "import scipy.stats as stats\n",
    "from sklearn.pipeline import Pipeline\n",
    "\n",
    "df_engineering = TrainSet.copy()\n",
    "df_all_transfomers = df_engineering.drop(\n",
    "    columns=['GarageArea', 'GarageYrBlt', 'TotalBsmtSF'])\n",
    "\n",
    "def print_results(df):\n",
    "    for col in df:\n",
    "        skewness = df[col].skew()\n",
    "        kurtosis = df[col].kurt()\n",
    "        print(f'{col} - Skewness: {skewness}, Kurtosis: {kurtosis}')"
   ]
  },
  {
   "cell_type": "markdown",
   "metadata": {},
   "source": [
    "#### Log"
   ]
  },
  {
   "cell_type": "code",
   "execution_count": 6,
   "metadata": {},
   "outputs": [
    {
     "name": "stdout",
     "output_type": "stream",
     "text": [
      "1stFlrSF - Skewness: -0.0033940831286170814, Kurtosis: 0.014686824240931262\n",
      "GrLivArea - Skewness: -0.06827974061853226, Kurtosis: 0.17394728553530392\n",
      "KitchenQual - Skewness: -0.45707412257729374, Kurtosis: 0.981299246303601\n",
      "OverallQual - Skewness: -1.0895718566109704, Kurtosis: 5.307639739058256\n",
      "YearBuilt - Skewness: -0.6412427272051278, Kurtosis: -0.366126488333435\n",
      "YearRemodAdd - Skewness: -0.49881781879784226, Kurtosis: -1.27932044643099\n",
      "SalePrice - Skewness: 0.030237620059670654, Kurtosis: 0.8427224177523174\n"
     ]
    }
   ],
   "source": [
    "pipeline = Pipeline([\n",
    "      ('log', vt.LogTransformer())\n",
    "  ])\n",
    "\n",
    "df_transformed = pipeline.fit_transform(df_all_transfomers)\n",
    "\n",
    "print_results(df_transformed)"
   ]
  },
  {
   "cell_type": "markdown",
   "metadata": {},
   "source": [
    "#### Power"
   ]
  },
  {
   "cell_type": "code",
   "execution_count": 7,
   "metadata": {},
   "outputs": [
    {
     "name": "stdout",
     "output_type": "stream",
     "text": [
      "1stFlrSF - Skewness: 0.46309915819724773, Kurtosis: 0.2961737796979871\n",
      "GarageArea - Skewness: -1.6093471440627554, Kurtosis: 4.008551742559867\n",
      "GarageYrBlt - Skewness: -0.6842502586141582, Kurtosis: -0.2513785348703732\n",
      "GrLivArea - Skewness: 0.469996793236193, Kurtosis: 0.5953215942036492\n",
      "KitchenQual - Skewness: 0.03175894393166758, Kurtosis: -0.02710380481401531\n",
      "OverallQual - Skewness: -0.29558343385175034, Kurtosis: 1.0381261862705289\n",
      "TotalBsmtSF - Skewness: -1.4759676656207195, Kurtosis: 6.055496698779596\n",
      "YearBuilt - Skewness: -0.6271094837568743, Kurtosis: -0.39805175852509356\n",
      "YearRemodAdd - Skewness: -0.49511108812979787, Kurtosis: -1.2836540055554648\n",
      "SalePrice - Skewness: 0.8512237087688703, Kurtosis: 1.6748275901451803\n"
     ]
    }
   ],
   "source": [
    "pipeline = Pipeline([\n",
    "      ('power', vt.PowerTransformer())\n",
    "  ])\n",
    "\n",
    "df_transformed = pipeline.fit_transform(df_engineering)\n",
    "\n",
    "print_results(df_transformed)"
   ]
  },
  {
   "cell_type": "markdown",
   "metadata": {},
   "source": [
    "#### Box-Cox"
   ]
  },
  {
   "cell_type": "code",
   "execution_count": 8,
   "metadata": {},
   "outputs": [
    {
     "name": "stdout",
     "output_type": "stream",
     "text": [
      "1stFlrSF - Skewness: 0.46309915819724773, Kurtosis: 0.2961737796979871\n",
      "GarageArea - Skewness: -1.6093471440627554, Kurtosis: 4.008551742559867\n",
      "GarageYrBlt - Skewness: -0.6842502586141582, Kurtosis: -0.2513785348703732\n",
      "GrLivArea - Skewness: 0.469996793236193, Kurtosis: 0.5953215942036492\n",
      "KitchenQual - Skewness: 0.03175894393166758, Kurtosis: -0.02710380481401531\n",
      "OverallQual - Skewness: -0.29558343385175034, Kurtosis: 1.0381261862705289\n",
      "TotalBsmtSF - Skewness: -1.4759676656207195, Kurtosis: 6.055496698779596\n",
      "YearBuilt - Skewness: -0.6271094837568743, Kurtosis: -0.39805175852509356\n",
      "YearRemodAdd - Skewness: -0.49511108812979787, Kurtosis: -1.2836540055554648\n",
      "SalePrice - Skewness: 0.8512237087688703, Kurtosis: 1.6748275901451803\n"
     ]
    }
   ],
   "source": [
    "pipeline = Pipeline([\n",
    "      ('bct', vt.PowerTransformer())\n",
    "  ])\n",
    "\n",
    "df_transformed = pipeline.fit_transform(df_engineering)\n",
    "\n",
    "print_results(df_transformed)"
   ]
  },
  {
   "cell_type": "markdown",
   "metadata": {},
   "source": [
    "#### Yeo-Johnson"
   ]
  },
  {
   "cell_type": "code",
   "execution_count": 9,
   "metadata": {},
   "outputs": [
    {
     "name": "stdout",
     "output_type": "stream",
     "text": [
      "1stFlrSF - Skewness: 0.46309915819724773, Kurtosis: 0.2961737796979871\n",
      "GarageArea - Skewness: -1.6093471440627554, Kurtosis: 4.008551742559867\n",
      "GarageYrBlt - Skewness: -0.6842502586141582, Kurtosis: -0.2513785348703732\n",
      "GrLivArea - Skewness: 0.469996793236193, Kurtosis: 0.5953215942036492\n",
      "KitchenQual - Skewness: 0.03175894393166758, Kurtosis: -0.02710380481401531\n",
      "OverallQual - Skewness: -0.29558343385175034, Kurtosis: 1.0381261862705289\n",
      "TotalBsmtSF - Skewness: -1.4759676656207195, Kurtosis: 6.055496698779596\n",
      "YearBuilt - Skewness: -0.6271094837568743, Kurtosis: -0.39805175852509356\n",
      "YearRemodAdd - Skewness: -0.49511108812979787, Kurtosis: -1.2836540055554648\n",
      "SalePrice - Skewness: 0.8512237087688703, Kurtosis: 1.6748275901451803\n"
     ]
    }
   ],
   "source": [
    "pipeline = Pipeline([\n",
    "      ('yj', vt.PowerTransformer())\n",
    "  ])\n",
    "\n",
    "df_transformed = pipeline.fit_transform(df_engineering)\n",
    "\n",
    "print_results(df_transformed)"
   ]
  },
  {
   "cell_type": "markdown",
   "metadata": {},
   "source": [
    "### Implementing Transformations\n",
    "Based on the results of the different transformations.\n",
    "I've opted to use these transformations:\n",
    "- 1stFlrSF : Log\n",
    "- GrLivArea: Log\n",
    "- KitchenQual: Yeo-Johnson\n",
    "- OverallQual: Yeo-Johnson\n",
    "- YearBuilt: Yeo-Johnson\n",
    "- YearRemodAdd: Yeo-Johnson"
   ]
  },
  {
   "cell_type": "code",
   "execution_count": 10,
   "metadata": {},
   "outputs": [],
   "source": [
    "from sklearn.preprocessing import PowerTransformer, FunctionTransformer\n",
    "from scipy.stats import boxcox_normmax\n",
    "import numpy as np\n",
    "\n",
    "transformers = {\n",
    "    '1stFlrSF': FunctionTransformer(np.log1p, validate=True),\n",
    "    'GrLivArea': FunctionTransformer(np.log1p, validate=True),\n",
    "    'KitchenQual': PowerTransformer(method='yeo-johnson', standardize=True),\n",
    "    'OverallQual': PowerTransformer(method='yeo-johnson', standardize=True),\n",
    "    'YearBuilt': PowerTransformer(method='yeo-johnson', standardize=True),\n",
    "    'YearRemodAdd': PowerTransformer(method='yeo-johnson', standardize=True)\n",
    "}\n",
    "\n",
    "for feature, transformer in transformers.items():\n",
    "    TrainSet[feature] = transformer.fit_transform(TrainSet[[feature]])\n",
    "    TestSet[feature] = transformer.transform(TestSet[[feature]])"
   ]
  },
  {
   "cell_type": "markdown",
   "metadata": {},
   "source": [
    "## Winsoriser\n"
   ]
  },
  {
   "cell_type": "code",
   "execution_count": 11,
   "metadata": {},
   "outputs": [
    {
     "name": "stdout",
     "output_type": "stream",
     "text": [
      "1stFlrSF - Skewness: -0.0024576178568033193, Kurtosis: 0.013805767337972785\n",
      "GarageArea - Skewness: 0.1743109161644365, Kurtosis: 0.8293437119659983\n",
      "GarageYrBlt - Skewness: -0.6724667403046555, Kurtosis: -0.27790902874977785\n",
      "GrLivArea - Skewness: -0.06743909950588259, Kurtosis: 0.1728823696400532\n",
      "KitchenQual - Skewness: -4.727914421778203e-05, Kurtosis: -0.03464860436914341\n",
      "OverallQual - Skewness: 0.023258692938383306, Kurtosis: 0.27943955459651937\n",
      "TotalBsmtSF - Skewness: 0.5914851324202735, Kurtosis: 2.1657171267323623\n",
      "YearBuilt - Skewness: -0.13338005255024799, Kurtosis: -1.1879043745582991\n",
      "YearRemodAdd - Skewness: -0.2206970248777962, Kurtosis: -1.5166647791498673\n",
      "SalePrice - Skewness: 1.7501064882951105, Kurtosis: 5.6902630514780945\n"
     ]
    }
   ],
   "source": [
    "df_engineering = TrainSet.copy()\n",
    "\n",
    "print_results(df_engineering)"
   ]
  },
  {
   "cell_type": "code",
   "execution_count": 12,
   "metadata": {},
   "outputs": [
    {
     "data": {
      "text/html": [
       "<div>\n",
       "<style scoped>\n",
       "    .dataframe tbody tr th:only-of-type {\n",
       "        vertical-align: middle;\n",
       "    }\n",
       "\n",
       "    .dataframe tbody tr th {\n",
       "        vertical-align: top;\n",
       "    }\n",
       "\n",
       "    .dataframe thead th {\n",
       "        text-align: right;\n",
       "    }\n",
       "</style>\n",
       "<table border=\"1\" class=\"dataframe\">\n",
       "  <thead>\n",
       "    <tr style=\"text-align: right;\">\n",
       "      <th></th>\n",
       "      <th>1stFlrSF</th>\n",
       "      <th>GarageArea</th>\n",
       "      <th>GarageYrBlt</th>\n",
       "      <th>GrLivArea</th>\n",
       "      <th>KitchenQual</th>\n",
       "      <th>OverallQual</th>\n",
       "      <th>TotalBsmtSF</th>\n",
       "      <th>YearBuilt</th>\n",
       "      <th>YearRemodAdd</th>\n",
       "      <th>SalePrice</th>\n",
       "    </tr>\n",
       "  </thead>\n",
       "  <tbody>\n",
       "    <tr>\n",
       "      <th>0.25</th>\n",
       "      <td>6.785588</td>\n",
       "      <td>336.0</td>\n",
       "      <td>1962.0</td>\n",
       "      <td>7.038782</td>\n",
       "      <td>-0.731764</td>\n",
       "      <td>-0.785748</td>\n",
       "      <td>798.75</td>\n",
       "      <td>-0.702933</td>\n",
       "      <td>-0.998599</td>\n",
       "      <td>130000.0</td>\n",
       "    </tr>\n",
       "    <tr>\n",
       "      <th>0.75</th>\n",
       "      <td>7.237239</td>\n",
       "      <td>576.0</td>\n",
       "      <td>2001.0</td>\n",
       "      <td>7.489691</td>\n",
       "      <td>0.789660</td>\n",
       "      <td>0.678885</td>\n",
       "      <td>1276.25</td>\n",
       "      <td>1.015993</td>\n",
       "      <td>0.988735</td>\n",
       "      <td>215000.0</td>\n",
       "    </tr>\n",
       "  </tbody>\n",
       "</table>\n",
       "</div>"
      ],
      "text/plain": [
       "      1stFlrSF  GarageArea  GarageYrBlt  GrLivArea  KitchenQual  OverallQual  \\\n",
       "0.25  6.785588       336.0       1962.0   7.038782    -0.731764    -0.785748   \n",
       "0.75  7.237239       576.0       2001.0   7.489691     0.789660     0.678885   \n",
       "\n",
       "      TotalBsmtSF  YearBuilt  YearRemodAdd  SalePrice  \n",
       "0.25       798.75  -0.702933     -0.998599   130000.0  \n",
       "0.75      1276.25   1.015993      0.988735   215000.0  "
      ]
     },
     "execution_count": 12,
     "metadata": {},
     "output_type": "execute_result"
    }
   ],
   "source": [
    "quartiles = df_engineering[df_engineering.columns].quantile([0.25, 0.75])\n",
    "quartiles"
   ]
  },
  {
   "cell_type": "markdown",
   "metadata": {},
   "source": [
    "Based on these results, we will winsorize these features:\n",
    "- TotaltBsmtSF\n",
    "- GarageArea\n",
    "- GarageYrBlt"
   ]
  },
  {
   "cell_type": "code",
   "execution_count": 13,
   "metadata": {},
   "outputs": [],
   "source": [
    "windsoriser = Winsorizer(capping_method='iqr', tail='both', fold=1.5,\n",
    "                         variables=['TotalBsmtSF', 'GarageArea', 'GarageYrBlt'])\n",
    "\n",
    "TrainSet = windsoriser.fit_transform(TrainSet)\n",
    "TestSet = windsoriser.fit_transform(TestSet)"
   ]
  },
  {
   "cell_type": "markdown",
   "metadata": {},
   "source": [
    "## Smart Correlated Selection"
   ]
  },
  {
   "cell_type": "code",
   "execution_count": 21,
   "metadata": {},
   "outputs": [
    {
     "data": {
      "text/plain": [
       "[{'1stFlrSF', 'TotalBsmtSF'},\n",
       " {'GarageYrBlt', 'YearBuilt'},\n",
       " {'OverallQual', 'SalePrice'}]"
      ]
     },
     "execution_count": 21,
     "metadata": {},
     "output_type": "execute_result"
    }
   ],
   "source": [
    "from feature_engine.selection import SmartCorrelatedSelection\n",
    "corr_sel = SmartCorrelatedSelection(variables=None, method=\"spearman\", threshold=0.8, selection_method=\"variance\")\n",
    "\n",
    "corr_sel.fit_transform(df_engineering)\n",
    "corr_sel.correlated_feature_sets_"
   ]
  },
  {
   "cell_type": "code",
   "execution_count": 22,
   "metadata": {},
   "outputs": [
    {
     "data": {
      "text/plain": [
       "['1stFlrSF', 'OverallQual', 'YearBuilt']"
      ]
     },
     "execution_count": 22,
     "metadata": {},
     "output_type": "execute_result"
    }
   ],
   "source": [
    "corr_sel.features_to_drop_"
   ]
  },
  {
   "cell_type": "markdown",
   "metadata": {},
   "source": [
    "---"
   ]
  },
  {
   "cell_type": "markdown",
   "metadata": {},
   "source": [
    "# Conclusions"
   ]
  }
 ],
 "metadata": {
  "language_info": {
   "name": "python"
  }
 },
 "nbformat": 4,
 "nbformat_minor": 2
}
