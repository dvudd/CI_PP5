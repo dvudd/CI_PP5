{
 "cells": [
  {
   "cell_type": "markdown",
   "metadata": {},
   "source": [
    "# Correlation Study Notebook\n",
    "## Objectives\n",
    "- Business requirement 1:\n",
    "    - The client is interested in discovering how the house attributes correlate with the sale price. Therefore, the client expects data visualisations of the correlated variables against the sale price to show that.\n",
    "\n",
    "## Inputs\n",
    "- outputs/datasets/cleaned/TrainSetCleaned.csv\n",
    "\n",
    "## Outputs\n",
    "- outputs/datasets/cleaned/TrainSetCleaned.csv\n",
    "\n",
    "## Conclusions\n",
    "- The price of a property is directly correlated with its quality and size, as well as its construction date."
   ]
  },
  {
   "cell_type": "markdown",
   "metadata": {},
   "source": [
    "---"
   ]
  },
  {
   "cell_type": "markdown",
   "metadata": {},
   "source": [
    "# Change working directory\n",
    "We need to change the working directory from its current folder to its parent folder"
   ]
  },
  {
   "cell_type": "code",
   "execution_count": null,
   "metadata": {},
   "outputs": [],
   "source": [
    "import os\n",
    "\n",
    "current_path = os.getcwd()\n",
    "os.chdir(os.path.dirname(current_path))\n",
    "current_path = os.getcwd()\n",
    "current_path"
   ]
  },
  {
   "cell_type": "markdown",
   "metadata": {},
   "source": [
    "# Load Cleaned Data"
   ]
  },
  {
   "cell_type": "code",
   "execution_count": null,
   "metadata": {},
   "outputs": [],
   "source": [
    "import pandas as pd\n",
    "TrainSet = pd.read_csv(\"outputs/datasets/cleaned/TrainSetCleaned.csv\")\n",
    "TrainSet.head()"
   ]
  },
  {
   "cell_type": "markdown",
   "metadata": {},
   "source": [
    "# Data Exploration"
   ]
  },
  {
   "cell_type": "code",
   "execution_count": null,
   "metadata": {},
   "outputs": [],
   "source": [
    "from pandas_profiling import ProfileReport\n",
    "pandas_report = ProfileReport(df=TrainSet, minimal=True)\n",
    "pandas_report.to_notebook_iframe()"
   ]
  },
  {
   "cell_type": "markdown",
   "metadata": {},
   "source": [
    "---"
   ]
  },
  {
   "cell_type": "markdown",
   "metadata": {},
   "source": [
    "## Correlation and PPS Analysis\n",
    "We need to find the correlation between different features and the sales price. Let's start by "
   ]
  },
  {
   "cell_type": "markdown",
   "metadata": {},
   "source": [
    "## Pearson Correlation"
   ]
  },
  {
   "cell_type": "code",
   "execution_count": null,
   "metadata": {},
   "outputs": [],
   "source": [
    "import seaborn as sns\n",
    "import matplotlib.pyplot as plt\n",
    "\n",
    "pearson_corr = TrainSet.corr(method='pearson')['SalePrice'].sort_values(key=abs, ascending=False)\n",
    "\n",
    "# Exlude the SalePrice correlation with itself\n",
    "pearson_corr = pearson_corr.drop('SalePrice')\n",
    "\n",
    "plt.figure(figsize=(10, 8))\n",
    "sns.barplot(x=pearson_corr.index, y=pearson_corr.values, palette='viridis')\n",
    "plt.xticks(rotation=90)\n",
    "plt.title('Pearson Correlation with SalePrice')\n",
    "plt.xlabel('Features')\n",
    "plt.ylabel('Correlation Coefficient')\n",
    "\n",
    "plt.show()"
   ]
  },
  {
   "cell_type": "markdown",
   "metadata": {},
   "source": [
    "## Spearman Correlation"
   ]
  },
  {
   "cell_type": "code",
   "execution_count": null,
   "metadata": {},
   "outputs": [],
   "source": [
    "spearman_corr = TrainSet.corr(method='spearman')['SalePrice'].sort_values(ascending=False)\n",
    "\n",
    "# Exlude the SalePrice correlation with itself\n",
    "spearman_corr = spearman_corr.drop('SalePrice')\n",
    "\n",
    "plt.figure(figsize=(10, 8))\n",
    "sns.barplot(x=spearman_corr.index, y=spearman_corr.values, palette='viridis')\n",
    "plt.xticks(rotation=90)\n",
    "plt.title('Spearman Correlation with SalePrice')\n",
    "plt.xlabel('Features')\n",
    "plt.ylabel('Correlation Coefficient')"
   ]
  },
  {
   "cell_type": "markdown",
   "metadata": {},
   "source": [
    "## Comparing results.\n",
    "Both the Pearson and the Spearman correlations gives almost the same results, let's compare the results.\n"
   ]
  },
  {
   "cell_type": "code",
   "execution_count": null,
   "metadata": {},
   "outputs": [],
   "source": [
    "# Define the threshold\n",
    "threshold = 0.5\n",
    "\n",
    "correlation_comparison = pd.DataFrame({\n",
    "    'Pearson': pearson_corr,\n",
    "    'Spearman': spearman_corr\n",
    "})\n",
    "\n",
    "plt.figure(figsize=(10, 8))\n",
    "sns.scatterplot(x='Pearson', y='Spearman', data=correlation_comparison)\n",
    "plt.title('Comparison of Pearson vs. Spearman Correlations')\n",
    "plt.xlabel('Pearson Correlation Coefficient')\n",
    "plt.ylabel('Spearman Correlation Coefficient')\n",
    "\n",
    "plt.axhline(threshold, color='red', linestyle='--', linewidth=1)\n",
    "plt.axvline(threshold, color='red', linestyle='--', linewidth=1)\n",
    "\n",
    "for line in range(0, correlation_comparison.shape[0]):\n",
    "    plt.text(correlation_comparison.Pearson[line]+0.01, correlation_comparison.Spearman[line], \n",
    "             correlation_comparison.index[line], horizontalalignment='left', size='medium', color='black', weight='semibold')\n",
    "\n",
    "plt.grid(True)\n",
    "plt.show()"
   ]
  },
  {
   "cell_type": "code",
   "execution_count": null,
   "metadata": {},
   "outputs": [],
   "source": [
    "pearson_features = pearson_corr[abs(pearson_corr) > threshold]\n",
    "spearman_features = spearman_corr[abs(spearman_corr) > threshold]\n",
    "\n",
    "\n",
    "result= list(set(pearson_features.index.to_list()) | set(spearman_features.index.to_list()))\n",
    "result"
   ]
  },
  {
   "cell_type": "markdown",
   "metadata": {},
   "source": [
    "Comparing the results of the two, we can see that these variables has the highest correlation to sales price:\n",
    "- OverallQual\n",
    "- GrLivArea\n",
    "- KitchenQual\n",
    "- GarageArea\n",
    "- YearBuilt\n",
    "- TotalBsmtSF\n",
    "- GarageFinish\n",
    "- YearRemodAdd\n",
    "- 1stFlrSF\n",
    "- GarageYrBlt\n",
    "\n",
    "Moving forward, we can drop all the other variables."
   ]
  },
  {
   "cell_type": "markdown",
   "metadata": {},
   "source": [
    "# Save changes to the Train Set"
   ]
  },
  {
   "cell_type": "code",
   "execution_count": null,
   "metadata": {},
   "outputs": [],
   "source": [
    "df_corr = TrainSet.drop(columns=[col for col in TrainSet.columns if col not in result])\n",
    "\n",
    "df_corr.to_csv(\"outputs/datasets/cleaned/TrainSetCleaned.csv\", index=False)"
   ]
  },
  {
   "cell_type": "markdown",
   "metadata": {},
   "source": [
    "---"
   ]
  },
  {
   "cell_type": "markdown",
   "metadata": {},
   "source": [
    "# Conclusions\n",
    "- The price of a property is directly correlated with its quality and size, as well as its construction date."
   ]
  }
 ],
 "metadata": {
  "kernelspec": {
   "display_name": "Python 3",
   "language": "python",
   "name": "python3"
  },
  "language_info": {
   "codemirror_mode": {
    "name": "ipython",
    "version": 3
   },
   "file_extension": ".py",
   "mimetype": "text/x-python",
   "name": "python",
   "nbconvert_exporter": "python",
   "pygments_lexer": "ipython3",
   "version": "3.8.18"
  }
 },
 "nbformat": 4,
 "nbformat_minor": 2
}
