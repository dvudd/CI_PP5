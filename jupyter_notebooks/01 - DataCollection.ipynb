{
 "cells": [
  {
   "cell_type": "markdown",
   "metadata": {},
   "source": [
    "# Data Collection\n",
    "## Objectives\n",
    "Fetch data from Kaggle and save as raw data\n",
    "\n",
    "## Inputs\n",
    "Kaggle JSON file - authentication token to access and download Kaggle data\n",
    "\n",
    "## Outputs\n",
    "Generate Datasets:\n",
    "inputs/datasets/raw/house_price_records.csv\n",
    "inputs/datasets/raw/inherited_houses.csv"
   ]
  },
  {
   "cell_type": "markdown",
   "metadata": {},
   "source": [
    "# Change working directory\n",
    "We need to change the working directory from its current folder to its parent folder"
   ]
  },
  {
   "cell_type": "code",
   "execution_count": null,
   "metadata": {},
   "outputs": [],
   "source": [
    "import os\n",
    "\n",
    "current_path = os.getcwd()\n",
    "os.chdir(os.path.dirname(current_path))\n",
    "current_path = os.getcwd()\n",
    "current_path"
   ]
  },
  {
   "cell_type": "markdown",
   "metadata": {},
   "source": [
    "# Collect data from Kaggle\n",
    "The data is collected from Kaggle, after the database has been downloaded we delete the compressed .zip file along with the kaggle.json file.\n",
    "We'll start by installing kaggle followed by setting the correct permissions for the kaggle.json."
   ]
  },
  {
   "cell_type": "code",
   "execution_count": null,
   "metadata": {},
   "outputs": [],
   "source": [
    "if os.path.isfile(\"kaggle.json\"):\n",
    "    ! pip install kaggle\n",
    "    os.environ[\"KAGGLE_CONFIG_DIR\"] = os.getcwd()\n",
    "    ! chmod 600 kaggle.json\n",
    "    data_path = \"codeinstitute/housing-prices-data\"\n",
    "    destination_folder = \"inputs/datasets/raw\"   \n",
    "    ! kaggle datasets download -d {data_folder} -p {destination_folder}\n",
    "else:\n",
    "    print(\"kaggle.json does not exist! Please import it into the root of this project.\")"
   ]
  },
  {
   "cell_type": "markdown",
   "metadata": {},
   "source": [
    "## Unzip and remove temporary files\n",
    "Decompress the .zip file(s), if that is successful the temporary .zip file(s) and kaggle.json are deleted since they are no longer needed."
   ]
  },
  {
   "cell_type": "code",
   "execution_count": null,
   "metadata": {},
   "outputs": [],
   "source": [
    "! unzip -j {destination_folder}/*.zip -d {destination_folder} \\\n",
    "  && rm {destination_folder}/*.zip \\\n",
    "  && rm kaggle.json"
   ]
  },
  {
   "cell_type": "markdown",
   "metadata": {},
   "source": [
    "# Load and inspect data\n",
    "Now that we have our data, lets inspect it and save it into the output folder."
   ]
  },
  {
   "cell_type": "code",
   "execution_count": null,
   "metadata": {},
   "outputs": [],
   "source": [
    "import pandas\n",
    "\n",
    "try:\n",
    "  os.makedirs(name='outputs/datasets/collection')\n",
    "except Exception as e:\n",
    "  print(e)\n",
    "\n",
    "df = pandas.read_csv(f\"inputs/datasets/raw/house_prices_records.csv\")\n",
    "df.head()\n",
    "df.info(max_cols=24)\n",
    "df.to_csv(f\"outputs/datasets/collection/HousePrices.csv\",index=False)"
   ]
  }
 ],
 "metadata": {
  "kernelspec": {
   "display_name": "Python 3",
   "language": "python",
   "name": "python3"
  },
  "language_info": {
   "codemirror_mode": {
    "name": "ipython",
    "version": 3
   },
   "file_extension": ".py",
   "mimetype": "text/x-python",
   "name": "python",
   "nbconvert_exporter": "python",
   "pygments_lexer": "ipython3",
   "version": "3.8.18"
  }
 },
 "nbformat": 4,
 "nbformat_minor": 2
}
